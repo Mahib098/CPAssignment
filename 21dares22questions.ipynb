{
 "cells": [
  {
   "cell_type": "markdown",
   "id": "15a804f5-c9b2-4e67-8673-0ecffab40faf",
   "metadata": {},
   "source": [
    "### 1. Write a Function that takes two strings and returns TRUE if they are anagrams and False otherwise. A pair of strings is anagramsn if letters in one word can be arranged to form the second one"
   ]
  },
  {
   "cell_type": "code",
   "execution_count": 2,
   "id": "d11b2ac8-7aad-4681-bb64-857295190f52",
   "metadata": {},
   "outputs": [
    {
     "name": "stdout",
     "output_type": "stream",
     "text": [
      "True\n"
     ]
    },
    {
     "data": {
      "text/plain": [
       "False"
      ]
     },
     "execution_count": 2,
     "metadata": {},
     "output_type": "execute_result"
    }
   ],
   "source": [
    "def anaCheck(s1,s2):\n",
    "    \n",
    "    if sorted(s1) == sorted(s2):\n",
    "        return True\n",
    "    else:\n",
    "        return False\n",
    "\n",
    "print(anaCheck(\"bad\" , \"dab\"))\n",
    "anaCheck(\"mad\" , \"bad\")\n",
    "    "
   ]
  },
  {
   "cell_type": "markdown",
   "id": "6c2f3793-6fd1-4f31-a4e2-344fd8217fa3",
   "metadata": {},
   "source": [
    "### 2.Write a Function that takes a list of numbers as input from user and produces the corresponding cumulative list where each element in the list at index I is the sum of elements at index j <= I"
   ]
  },
  {
   "cell_type": "code",
   "execution_count": 6,
   "id": "c51f8ce4-5fc9-49e5-9292-f5f8b8456e4f",
   "metadata": {},
   "outputs": [
    {
     "name": "stdout",
     "output_type": "stream",
     "text": [
      "[1, 3, 6, 10]\n"
     ]
    }
   ],
   "source": [
    "def RunUpSum(List):\n",
    "    for i in range(1, len(List)):\n",
    "        List[i] = List[i] + List[i-1]\n",
    "    return List\n",
    "\n",
    "print(RunUpSum([1,2,3,4]))"
   ]
  },
  {
   "cell_type": "markdown",
   "id": "37b558ec-6d18-4d7b-bf69-b9189d773aa9",
   "metadata": {},
   "source": [
    "### 3.Write a python program that takes a number as input and returns the corresponding text in words. Use dictionary for mapping digits to their string representation"
   ]
  },
  {
   "cell_type": "code",
   "execution_count": 1,
   "id": "a8a15690-017e-438f-ba15-e7c35d65d5eb",
   "metadata": {},
   "outputs": [
    {
     "name": "stdout",
     "output_type": "stream",
     "text": [
      "twelve\n"
     ]
    }
   ],
   "source": [
    "map={1000000000:\"billion \",1000000:\"million \",1000:\"thousand \",100:\"hundred \",10:\"ten \",\n",
    "    20:\"twenty \",30:\"thirty \",40:\"forty \",50:\"fifty \",60:\"sixty \",70:\"seventy \",80:\"eighty \",90:\"ninety \",\n",
    "    1:\"one \",2:\"two \",3:\"three \",4:\"four \",5:\"five \",6:\"six \",7:\"seven \",8:\"eight \",9:\"nine \",\n",
    "    11:\"eleven \",12:\"twelve \",13:\"thirteen \",14:\"fourteen \",15:\"fifteen \",16:\"sixteen \",17:\"seventeen \",18:\"eighteen \",19:\"nineteen \"}\n",
    "def convert(n):\n",
    "    ans=\"\"\n",
    "    if n==0:return \"zero\"\n",
    "    while(n):\n",
    "        if n>=1000000000:\n",
    "            ans+=convert(n//1000000000)+\" \"+map[1000000000]\n",
    "            n%=1000000000\n",
    "        elif n>=1000000:\n",
    "            ans+=convert(n//1000000)+\" \"+map[1000000]\n",
    "            n%=1000000\n",
    "        elif n>=1000:\n",
    "            ans+=convert(n//1000)+\" \"+map[1000]\n",
    "            n%=1000\n",
    "        elif n>=100:\n",
    "            ans+=map[n//100]+map[100]\n",
    "            n%=100\n",
    "        elif n>=20:\n",
    "            ans+=map[(n//10)*10]\n",
    "            n%=10\n",
    "        else:\n",
    "            ans+=map[n]\n",
    "            n=0\n",
    "    return ans.strip()\n",
    "print(convert(12))"
   ]
  },
  {
   "cell_type": "markdown",
   "id": "51983467-57c7-47c9-9e64-39219e6de58f",
   "metadata": {},
   "source": [
    "### 4.Write a program that takes a sentence as input from the user and computes the frequency of each letter. Use a variable of dictionary type to maintain the count"
   ]
  },
  {
   "cell_type": "code",
   "execution_count": 11,
   "id": "2e9dcce6-da96-4d46-9f30-c7947bb19f84",
   "metadata": {},
   "outputs": [
    {
     "name": "stdout",
     "output_type": "stream",
     "text": [
      "{'h': 2, 'i': 3, ' ': 3, 'a': 2, 'm': 2, 'b': 1}\n"
     ]
    }
   ],
   "source": [
    "def letterFreq(string):\n",
    "    LetDict = {} \n",
    "    \n",
    "    for i in range(len(string)):\n",
    "        LetDict[string[i].lower()] = 0\n",
    "        \n",
    "    for i in range(len(string)):\n",
    "        LetDict[string[i].lower()] += 1\n",
    "    return LetDict\n",
    "\n",
    "print(letterFreq(\"Hi I am Mahib\"))"
   ]
  },
  {
   "cell_type": "markdown",
   "id": "3451f6b2-2730-4bba-8e51-6967f679afab",
   "metadata": {},
   "source": [
    "### 5.Write a function to reverse a string using recursion"
   ]
  },
  {
   "cell_type": "code",
   "execution_count": 33,
   "id": "3e623b5c-2352-4c42-9209-b4861954fb52",
   "metadata": {},
   "outputs": [
    {
     "name": "stdout",
     "output_type": "stream",
     "text": [
      "olleh\n"
     ]
    }
   ],
   "source": [
    "def Streverse(string):\n",
    "    if len(string) == 0:\n",
    "        return string\n",
    "    \n",
    "    else:\n",
    "        return string[-1] + Streverse(string[: len(string)-1])\n",
    "\n",
    "print(Streverse(\"hello\"))"
   ]
  },
  {
   "cell_type": "markdown",
   "id": "fbc131de-0699-4c2f-a9da-883046847e1f",
   "metadata": {},
   "source": [
    "### 6.Write a Python program to print the Fibonacci series using a for loop and using recursion"
   ]
  },
  {
   "cell_type": "code",
   "execution_count": 52,
   "id": "6236cc56-7d81-40cb-b2d5-6f2529d6450f",
   "metadata": {},
   "outputs": [
    {
     "name": "stdout",
     "output_type": "stream",
     "text": [
      "1\t1\t2\t3\t5\t8\t13\t"
     ]
    },
    {
     "name": "stdin",
     "output_type": "stream",
     "text": [
      "Number of fibonacci numbers? :  7\n"
     ]
    },
    {
     "name": "stdout",
     "output_type": "stream",
     "text": [
      "1\t1\t2\t3\t5\t8\t13\t"
     ]
    }
   ],
   "source": [
    "# using for\n",
    "def FiboFor(n):\n",
    "    n1 = 0\n",
    "    n2 = 1\n",
    "    \n",
    "    print(n2, end = \"\\t\")\n",
    "    for i in range(n-1):\n",
    "        n3 = n1 + n2 \n",
    "        print(n3, end = \"\\t\")\n",
    "        n1 = n2\n",
    "        n2 = n3\n",
    "FiboFor(7)\n",
    "\n",
    "#using recursion\n",
    "\n",
    "def FiboRec(n):\n",
    "    if n <= 1:\n",
    "        return 1\n",
    "    else:\n",
    "        return FiboRec(n-1) + FiboRec(n-2)\n",
    "\n",
    "n = int(input(\"Number of fibonacci numbers? : \"))\n",
    "for i in range(n):\n",
    "    print(FiboRec(i) , end = \"\\t\")"
   ]
  },
  {
   "cell_type": "markdown",
   "id": "411c0f7c-9ee2-4f72-b485-10c36a469224",
   "metadata": {},
   "source": [
    "### 7.Perform various operations on lists (e.g., sorting, slicing, pop etc).as discussed in the class"
   ]
  },
  {
   "cell_type": "code",
   "execution_count": 53,
   "id": "92d73e87-6400-4f56-8c74-ffd2e56eba46",
   "metadata": {},
   "outputs": [
    {
     "name": "stdout",
     "output_type": "stream",
     "text": [
      "[10, 20.5, 10, 'a', 'b', True]\n",
      "<class 'list'>\n",
      "10\n",
      "True\n",
      "[20.5, 10]\n"
     ]
    }
   ],
   "source": [
    "list1 = [10, 20.5, 10, \"a\", \"b\", True]\n",
    "print(list1)\n",
    "print(type(list1))\n",
    "print(list1[0])\n",
    "print(list1[-1])\n",
    "print(list1[1:3])"
   ]
  },
  {
   "cell_type": "code",
   "execution_count": 54,
   "id": "6c7bc304-907d-45ba-bbf3-3ac6b5be73af",
   "metadata": {},
   "outputs": [
    {
     "name": "stdout",
     "output_type": "stream",
     "text": [
      "[100, 20.5, 10, 'a', 'b', True]\n",
      "[100, 20.5, 'a', 'b', True]\n"
     ]
    }
   ],
   "source": [
    "#updating lists\n",
    "list1[0]=100\n",
    "print(list1)\n",
    "\n",
    "#deleting list elements\n",
    "del list1[2]\n",
    "print(list1)"
   ]
  },
  {
   "cell_type": "code",
   "execution_count": 55,
   "id": "6d9153ab-14cc-481a-a285-f1495680169c",
   "metadata": {},
   "outputs": [
    {
     "name": "stdout",
     "output_type": "stream",
     "text": [
      "5\n",
      "[100, 20.5, 'a', 'b', True, 100, 20.5, 'a', 'b', True]\n",
      "[100, 20.5, 'a', 'b', True, 100, 20.5, 'a', 'b', True]\n"
     ]
    }
   ],
   "source": [
    "print(len(list1)) #length\n",
    "print(list1+list1) #concatenation\n",
    "print(list1*2) #repetition"
   ]
  },
  {
   "cell_type": "code",
   "execution_count": 56,
   "id": "4c980ae6-5009-4b1c-9476-d43a96dd330b",
   "metadata": {},
   "outputs": [
    {
     "name": "stdout",
     "output_type": "stream",
     "text": [
      "700\n",
      "200\n",
      "this\n",
      "a\n"
     ]
    }
   ],
   "source": [
    "list1 = [456, 700, 200]\n",
    "print(max(list1)) #maximum\n",
    "print(min(list1)) #minimum\n",
    "\n",
    "list2 = ['hello','this', 'is', 'a', 'list']\n",
    "print(max(list2))\n",
    "print(min(list2))"
   ]
  },
  {
   "cell_type": "code",
   "execution_count": 57,
   "id": "044d465f-c4c2-49c4-9e11-8455d287517c",
   "metadata": {},
   "outputs": [
    {
     "name": "stdout",
     "output_type": "stream",
     "text": [
      "[10, 20, 10, 30, 'hello']\n",
      "[10, 10, 30, 'hello']\n",
      "2\n",
      "[10, 10, 30, 'hello', True, 15.2, 'abc']\n",
      "3\n",
      "[10, 10, 300, 30, 'hello', True, 15.2, 'abc']\n",
      "abc\n",
      "True\n",
      "[10, 10, 300, 30, 'hello', 15.2]\n",
      "[15.2, 'hello', 30, 300, 10, 10]\n"
     ]
    }
   ],
   "source": [
    "list2 = [10, 20, 10]\n",
    "list3 =[True, 15.2, 'abc']\n",
    "list2.append(30) #append\n",
    "list2.append(\"hello\")\n",
    "print(list2)\n",
    "\n",
    "list2.remove(20) #remove\n",
    "print(list2)\n",
    "\n",
    "print(list2.count(10)) #count the object occurences\n",
    "\n",
    "list2.extend(list3) #extending the list\n",
    "print(list2)\n",
    "\n",
    "print(list2.index('hello')) #checking index of the object\n",
    "\n",
    "list2.insert(2, 300) #insert object at a particular index\n",
    "print(list2)\n",
    "\n",
    "print(list2.pop()) #removes and returns last object from the list.\n",
    "print(list2.pop(5))\n",
    "print(list2)\n",
    "\n",
    "list2.reverse() #reverse the list\n",
    "print(list2)"
   ]
  },
  {
   "cell_type": "markdown",
   "id": "3adb536b-b903-4af4-9273-9292eed3fd5a",
   "metadata": {},
   "source": [
    "### 8.Write a program to Use dictionaries to store and retrieve student grades."
   ]
  },
  {
   "cell_type": "code",
   "execution_count": 66,
   "id": "33b617b6-13f1-493a-9c59-d144d6f33359",
   "metadata": {},
   "outputs": [
    {
     "name": "stdin",
     "output_type": "stream",
     "text": [
      "Name of the student you want to retrueve grades of :  Mahib\n"
     ]
    },
    {
     "name": "stdout",
     "output_type": "stream",
     "text": [
      "The student Mahib got A\n"
     ]
    }
   ],
   "source": [
    "grades = {\"Mahib\" : \"A\" , \"Babyloaaaa\" : \"C\" , \"Harry\" : \"D\"}\n",
    "\n",
    "query = input(\"Name of the student you want to retrueve grades of : \")\n",
    "\n",
    "\n",
    "try:\n",
    "    print( f\"The student {query} got {grades[query]}\" )\n",
    "except KeyError:\n",
    "    print(\"Student not found!\")"
   ]
  },
  {
   "cell_type": "markdown",
   "id": "53f41d1a-d67f-4c8c-8895-cb2db084ad11",
   "metadata": {},
   "source": [
    "### 9. Perform various operations on lists (e.g., sorting, slicing, pop etc).as discussed in the class"
   ]
  },
  {
   "cell_type": "markdown",
   "id": "bbe17bf6-8f66-4d7e-a7b1-58cf083ef565",
   "metadata": {},
   "source": [
    "##### Same as Q7 "
   ]
  },
  {
   "cell_type": "markdown",
   "id": "8ee3a318-ba02-44cf-91ce-6c469a24a343",
   "metadata": {},
   "source": [
    "### 10.Write a generator function to generate the Fibonacci series."
   ]
  },
  {
   "cell_type": "code",
   "execution_count": 67,
   "id": "cc2ae2ff-eb2b-4d26-849a-9ebe4b637130",
   "metadata": {},
   "outputs": [
    {
     "name": "stdin",
     "output_type": "stream",
     "text": [
      "Input the number of Fibonacci numbers you want to generate?  7\n"
     ]
    },
    {
     "name": "stdout",
     "output_type": "stream",
     "text": [
      "Number of first  7 Fibonacci numbers:\n",
      "0 1 1 2 3 5 8 "
     ]
    }
   ],
   "source": [
    "def fibonacci():\n",
    "    x, y = 0, 1\n",
    "    while True:\n",
    "        yield x\n",
    "        x, y = y, x + y\n",
    "\n",
    "n = int(input(\"Input the number of Fibonacci numbers you want to generate? \"))\n",
    "\n",
    "print(\"Number of first \",n,\"Fibonacci numbers:\")\n",
    "fib = fibonacci()\n",
    "for _ in range(n):\n",
    "    print(next(fib),end=\" \")"
   ]
  },
  {
   "cell_type": "markdown",
   "id": "bb86cfc5-f8bd-42df-b51e-69b9b688efc5",
   "metadata": {},
   "source": [
    "### 11.Use lambda functions, map, and filter to perform operations on a list."
   ]
  },
  {
   "cell_type": "code",
   "execution_count": 68,
   "id": "869ce275-1211-4dcd-a03f-02c9d51db35d",
   "metadata": {},
   "outputs": [
    {
     "name": "stdout",
     "output_type": "stream",
     "text": [
      "176\n",
      "106\n",
      "144\n"
     ]
    }
   ],
   "source": [
    "def return_sum(func, lst):\n",
    "  result = 0\n",
    "  for i in lst:\n",
    "    #if val satisfies func\n",
    "    if func(i):\n",
    "      result = result + i\n",
    "  return result\n",
    "lst = [11,14,21,56,78,45,29,28]\n",
    "x = lambda a: a%2 == 0\n",
    "y = lambda a: a%2 != 0\n",
    "z = lambda a: a%3 == 0\n",
    "print(return_sum(x, lst))\n",
    "print(return_sum(y, lst))\n",
    "print(return_sum(z, lst))"
   ]
  },
  {
   "cell_type": "code",
   "execution_count": 69,
   "id": "30065b1c-61a1-435b-b12e-94d6bbd86658",
   "metadata": {},
   "outputs": [
    {
     "name": "stdout",
     "output_type": "stream",
     "text": [
      "[4, 16, 36, 64]\n"
     ]
    }
   ],
   "source": [
    "arr = [2,4,6,8]\n",
    "arr = list(map(lambda x: x*x, arr))\n",
    "print(arr)"
   ]
  },
  {
   "cell_type": "code",
   "execution_count": 70,
   "id": "2fd616c6-d816-4487-9248-b1a368cb604d",
   "metadata": {},
   "outputs": [
    {
     "name": "stdout",
     "output_type": "stream",
     "text": [
      "['mango', 'orange', 'grapes']\n"
     ]
    }
   ],
   "source": [
    "fruits = ['mango', 'apple', 'orange', 'cherry', 'grapes']\n",
    "print(list(filter(lambda fruit: 'g' in fruit, fruits)))"
   ]
  },
  {
   "cell_type": "markdown",
   "id": "a220194c-7cd3-4d7f-9a25-5f16aa703def",
   "metadata": {},
   "source": [
    "### 12.create a module that contains functions for mathematical operations"
   ]
  },
  {
   "cell_type": "code",
   "execution_count": 76,
   "id": "0890f7e8-1cf5-4b47-b84d-9d5ff65d8e2c",
   "metadata": {},
   "outputs": [],
   "source": [
    "class mathematics:\n",
    "    def sum(self, n1, n2):\n",
    "        return n1+n2\n",
    "    \n",
    "    def multi(self, n1, n2):\n",
    "        return n2*n2\n",
    "    \n",
    "    def divide(self, n1, n2):\n",
    "        return n1/n2\n",
    "    \n",
    "    def floorDiv(self, n1, n2):\n",
    "        return n1//n2\n",
    "    \n",
    "    def mod(self, n1, n2):\n",
    "        return n1%n2\n",
    "    \n",
    "    def pow(self, n1,n2):\n",
    "        return n1**n2\n",
    "    \n",
    "    def modulus(self, n):\n",
    "        if n<0:\n",
    "            return n*(-1)\n",
    "        else:\n",
    "            return n"
   ]
  },
  {
   "cell_type": "code",
   "execution_count": 78,
   "id": "2558bf05-78a3-4745-a7e7-efd0cfe229db",
   "metadata": {},
   "outputs": [
    {
     "name": "stdout",
     "output_type": "stream",
     "text": [
      "7\n",
      "16\n",
      "8\n",
      "2\n",
      "1\n"
     ]
    }
   ],
   "source": [
    "A = mathematics()\n",
    "\n",
    "print(A.sum(3,4))\n",
    "print(A.multi(3,4))\n",
    "print(A.pow(2,3))\n",
    "print(A.mod(2,3))\n",
    "print(A.floorDiv(7,5))"
   ]
  },
  {
   "cell_type": "markdown",
   "id": "c7677a21-b8d2-4f66-8629-cd602a0d05ee",
   "metadata": {},
   "source": [
    "### 13.import and use functions from different libraries"
   ]
  },
  {
   "cell_type": "code",
   "execution_count": 81,
   "id": "dd97d260-0721-4d45-8a32-d52dcf17645f",
   "metadata": {},
   "outputs": [
    {
     "name": "stdout",
     "output_type": "stream",
     "text": [
      "1.0\n"
     ]
    }
   ],
   "source": [
    "from math import * \n",
    "\n",
    "print(pow(1,2))"
   ]
  },
  {
   "cell_type": "code",
   "execution_count": 85,
   "id": "3eca3c58-c443-46e6-a68d-c0e5f569d835",
   "metadata": {},
   "outputs": [
    {
     "data": {
      "text/html": [
       "<div>\n",
       "<style scoped>\n",
       "    .dataframe tbody tr th:only-of-type {\n",
       "        vertical-align: middle;\n",
       "    }\n",
       "\n",
       "    .dataframe tbody tr th {\n",
       "        vertical-align: top;\n",
       "    }\n",
       "\n",
       "    .dataframe thead th {\n",
       "        text-align: right;\n",
       "    }\n",
       "</style>\n",
       "<table border=\"1\" class=\"dataframe\">\n",
       "  <thead>\n",
       "    <tr style=\"text-align: right;\">\n",
       "      <th></th>\n",
       "      <th>Targets</th>\n",
       "    </tr>\n",
       "  </thead>\n",
       "  <tbody>\n",
       "    <tr>\n",
       "      <th>0</th>\n",
       "      <td>1</td>\n",
       "    </tr>\n",
       "    <tr>\n",
       "      <th>1</th>\n",
       "      <td>2</td>\n",
       "    </tr>\n",
       "    <tr>\n",
       "      <th>2</th>\n",
       "      <td>3</td>\n",
       "    </tr>\n",
       "    <tr>\n",
       "      <th>3</th>\n",
       "      <td>4</td>\n",
       "    </tr>\n",
       "  </tbody>\n",
       "</table>\n",
       "</div>"
      ],
      "text/plain": [
       "   Targets\n",
       "0        1\n",
       "1        2\n",
       "2        3\n",
       "3        4"
      ]
     },
     "execution_count": 85,
     "metadata": {},
     "output_type": "execute_result"
    }
   ],
   "source": [
    "from pandas  import DataFrame\n",
    "\n",
    "df1 = DataFrame([1,2,3,4] , columns = [\"Targets\"])\n",
    "df1"
   ]
  },
  {
   "cell_type": "markdown",
   "id": "978f8946-32c5-48cd-8da9-24443d134c34",
   "metadata": {},
   "source": [
    "### 14.multiply 2 matrices using lists and then using numpy "
   ]
  },
  {
   "cell_type": "code",
   "execution_count": 158,
   "id": "7970b49f-114d-4dba-8347-7c2debebf53f",
   "metadata": {},
   "outputs": [],
   "source": [
    "def multiply(mat1, mat2):\n",
    "    mat1Shape = [len(mat1), len(mat1[0])]\n",
    "    mat2Shape = [len(mat2), len(mat2[0])]\n",
    "    if mat1Shape[1] == mat2Shape[0]:\n",
    "            Mat3 = [[] for i in range(mat1Shape[0])]\n",
    "            for row in range(mat1Shape[0]):\n",
    "                for col in range(mat2Shape[1]):\n",
    "                    element = 0\n",
    "                    for ele in range(mat2Shape[1]):\n",
    "                        element += mat1[row][ele] * mat2[ele][col]\n",
    "                    Mat3[row].append(element)\n",
    "            return Mat3\n",
    "    else:\n",
    "            print(f\"Invalid Multiplication! Was expecting a matrix of dimensions {mat1Shape[0]} x y, instead got matrix of dimensions {mat2Shape[0]} x {mat2Shape[1]}\")"
   ]
  },
  {
   "cell_type": "code",
   "execution_count": 159,
   "id": "25fa3a8f-06be-41bb-b5d4-ea9ceacae2c1",
   "metadata": {},
   "outputs": [],
   "source": [
    "mat1 = [[0,1,2],[2,3,4]]\n",
    "mat2 = [[1,0] , [0,1] , [0,0]]\n",
    "mat3 = multiply(mat1 , mat2)"
   ]
  },
  {
   "cell_type": "code",
   "execution_count": 160,
   "id": "9180bb20-398c-4a46-b1bf-7bed27c1b291",
   "metadata": {},
   "outputs": [
    {
     "name": "stdout",
     "output_type": "stream",
     "text": [
      "[[0, 1], [2, 3]]\n"
     ]
    }
   ],
   "source": [
    "print(mat3)"
   ]
  },
  {
   "cell_type": "code",
   "execution_count": 161,
   "id": "db432125-8b73-4f82-a804-8cff631a9de6",
   "metadata": {},
   "outputs": [],
   "source": [
    "import numpy"
   ]
  },
  {
   "cell_type": "code",
   "execution_count": 162,
   "id": "d4658465-13bb-4268-95f2-175c9bf741c8",
   "metadata": {},
   "outputs": [
    {
     "name": "stdout",
     "output_type": "stream",
     "text": [
      "[[0 1]\n",
      " [2 3]]\n"
     ]
    }
   ],
   "source": [
    "mat3 = numpy.dot(mat1,mat2)\n",
    "print(mat3)"
   ]
  },
  {
   "cell_type": "markdown",
   "id": "5da696f4-3c69-40e4-ae9b-3cab2f7c978c",
   "metadata": {},
   "source": [
    "### 15.define a class of complex numbers with addition and multiplication methods"
   ]
  },
  {
   "cell_type": "code",
   "execution_count": 168,
   "id": "1f6be36c-f1f9-4ecd-b003-9bc7a671b26d",
   "metadata": {},
   "outputs": [],
   "source": [
    "class complex:\n",
    "    def __init__(self, comp):\n",
    "        self.obj = comp\n",
    "    \n",
    "    def __add__(self, inst2):\n",
    "        return self.obj + inst2.obj\n",
    "    \n",
    "    def __sub__(self, inst2):\n",
    "        return self.obj - inst2.obj\n",
    "    \n",
    "    def __mul__(self, inst2):\n",
    "        return self.obj * inst2.obj"
   ]
  },
  {
   "cell_type": "code",
   "execution_count": 170,
   "id": "5ea05f4a-dcc3-4433-99a5-1f8fb8c97684",
   "metadata": {},
   "outputs": [
    {
     "name": "stdout",
     "output_type": "stream",
     "text": [
      "(4+6j)\n",
      "(-2-2j)\n",
      "(-5+10j)\n"
     ]
    }
   ],
   "source": [
    "A = complex(1+2j)\n",
    "A.obj\n",
    "B = complex(3+4j)\n",
    "print(A+B)\n",
    "print(A-B)\n",
    "print(A*B)"
   ]
  },
  {
   "cell_type": "markdown",
   "id": "c86c3fc8-6eec-4abc-8939-4b690555b66a",
   "metadata": {},
   "source": [
    "### 16.Matrix class - add, subtract, multiply, identify if a matrix is identity matrix or not"
   ]
  },
  {
   "cell_type": "code",
   "execution_count": 171,
   "id": "5ff4cfe9-046d-4c52-9bd2-31c179a07401",
   "metadata": {},
   "outputs": [],
   "source": [
    "class Default(list):\n",
    "    def __init__(self , dims):\n",
    "        self.dims = dims\n",
    "        self.Mat = [[0 for i in range(dims[1])] for i in range(dims[0])]\n",
    "    \n",
    "    def getEle(self, row, col):\n",
    "        return self.Mat[row][col]\n",
    "    \n",
    "    def Show(self):\n",
    "        for row in range(self.dims[0]):\n",
    "            for col in range(self.dims[1]):\n",
    "                print(self.Mat[row][col] , end = \"\\t\")\n",
    "            print(\"\\n\\n\")\n",
    "        print(\"\\n\")\n",
    "    \n",
    "    def det(self):\n",
    "        if self.dims[0] == self.dims[1]:\n",
    "            return np.linalg.det(self.Mat)\n",
    "        else:\n",
    "            print(\"Det does not exist!\")\n",
    "    \n",
    "    def ICheck(self):\n",
    "        for i in range(self.dims[0]):\n",
    "            if self.Mat[i][i] != 1:\n",
    "                return False\n",
    "            if self.Mat[i].pop(i) != [0 for j in range(self.dims[0]-1)] : \n",
    "                return False\n",
    "        return True\n",
    "            \n",
    "\n",
    "\n",
    "class Matrix(Default, list):\n",
    "    \n",
    "    def __init__(self):\n",
    "        self.dims = [int(input(\"Enter Number of Rows : \")), int(input(\"Enter Number of Columns : \"))]\n",
    "        self.Mat = Default(self.dims).Mat\n",
    "        for row in range(self.dims[0]):\n",
    "            for col in range(self.dims[1]):\n",
    "                ele = int(input(f\"Enter M{row+1}{col+1} : \"))\n",
    "                self.Mat[row][col] = ele\n",
    "    \n",
    "    def Add(self, Mat2):\n",
    "        Mat1dim = [len(self.Mat), len(self.Mat[0])]\n",
    "        Mat2dim = [Mat2.dims[0] , Mat2.dims[1]]\n",
    "        \n",
    "        if Mat1dim == Mat2dim:\n",
    "            Mat3 = Default(self.dims)\n",
    "            for row in range(Mat1dim[0]):\n",
    "                for col in range(Mat1dim[1]):\n",
    "                    Mat3.Mat[row][col] = self.Mat[row][col] + Mat2.getEle(row, col)\n",
    "            return Mat3            \n",
    "        else: \n",
    "            print(f\"Invalid addition! Expected a Matrix of dimension {Mat1dim[0]} x {Mat1dim[1]} but got a matrix of dimension {Mat2dim[0]} x {Mat2dim[1]}\")\n",
    "    \n",
    "    def Multiply(self, Mat2):\n",
    "        Mat1dim = self.dims \n",
    "        Mat2dim = Mat2.dims\n",
    "        \n",
    "        if Mat1dim[1] == Mat2dim[0]:\n",
    "            Mat3 = Default([Mat1dim[0], Mat2dim[1]])\n",
    "            for row in range(Mat3.dims[0]):\n",
    "                for col in range(Mat3.dims[1]):\n",
    "                    for ele in range(Mat1dim[1]):\n",
    "                        Mat3.Mat[row][col] += self.Mat[row][ele] * Mat2.Mat[ele][col]\n",
    "            return Mat3\n",
    "        else:\n",
    "            print(f\"Invalid Multiplication! Was expecting a matrix of dimensions {Mat1dim[0]} x y, instead got matrix of dimensions {Mat2dim[0]} x {Mat2dim[1]}\")"
   ]
  },
  {
   "cell_type": "markdown",
   "id": "13da2fad-96ac-411d-bddc-ec18c8b20819",
   "metadata": {},
   "source": [
    "### 17.Manager class extending Employee class"
   ]
  },
  {
   "cell_type": "code",
   "execution_count": 174,
   "id": "24abad5c-6e9c-47d4-9c29-ef6e7bcdb0cf",
   "metadata": {},
   "outputs": [],
   "source": [
    "class Emp:\n",
    "    def __init__(self, name):\n",
    "        self.name = name\n",
    "    \n",
    "class Manager(Emp):\n",
    "    def __init__(self, name, empDict):\n",
    "        super().__init__(name)\n",
    "        self.empDict = empDict"
   ]
  },
  {
   "cell_type": "code",
   "execution_count": 177,
   "id": "5a30d341-fa24-4edf-ba59-957995828185",
   "metadata": {},
   "outputs": [
    {
     "name": "stdout",
     "output_type": "stream",
     "text": [
      "{'Ravi': [<__main__.Emp object at 0x7fca75dd5360>, <__main__.Emp object at 0x7fca75dd4c10>, <__main__.Emp object at 0x7fca75dd5900>, <__main__.Emp object at 0x7fca75dd5c60>]}\n",
      "Mohan\n",
      "Mohan\n",
      "Mohan\n",
      "Mohan\n"
     ]
    }
   ],
   "source": [
    "List = []\n",
    "for i in range(4):\n",
    "    n = Emp(\"Mohan\")\n",
    "    List.append(n)\n",
    "\n",
    "n2 = Manager(\"Ravi\" , {\"Ravi\" : List})\n",
    "\n",
    "print(n2.empDict)\n",
    "\n",
    "for i in range(len(n2.empDict[n2.name])):\n",
    "    print(n2.empDict[n2.name][i].name)"
   ]
  },
  {
   "cell_type": "markdown",
   "id": "2435e7c3-0df7-4619-834d-03c424c23f0a",
   "metadata": {},
   "source": [
    "### 18. counting lines in txt file"
   ]
  },
  {
   "cell_type": "code",
   "execution_count": 178,
   "id": "b0ed059b-fb99-47ad-8eaa-9547e9faed63",
   "metadata": {},
   "outputs": [
    {
     "name": "stdout",
     "output_type": "stream",
     "text": [
      "3\n"
     ]
    }
   ],
   "source": [
    "with open(\"Sample.txt\" , \"r\") as fobj:\n",
    "    print(len(fobj.readlines()))"
   ]
  },
  {
   "cell_type": "markdown",
   "id": "a7173991-26dd-4d86-8689-b56da40c407b",
   "metadata": {},
   "source": [
    "### 19. Vowel deletion in 3 ways"
   ]
  },
  {
   "cell_type": "code",
   "execution_count": 186,
   "id": "d9905401-4c28-4a88-a8e2-468ab0c17ac2",
   "metadata": {},
   "outputs": [
    {
     "name": "stdout",
     "output_type": "stream",
     "text": [
      "mhb\n",
      "Mhbbbb\n",
      "hhh\n"
     ]
    }
   ],
   "source": [
    "def delvow1(string):\n",
    "    vow = \"aeiou\"\n",
    "    newstr = \"\"\n",
    "    \n",
    "    for i in range(len(string)):\n",
    "        if string[i].lower() not in vow:\n",
    "            newstr += string[i]\n",
    "    return newstr\n",
    "\n",
    "def delvow2(string):\n",
    "    vow = [\"a\" , \"e\" , \"i\" , \"o\" , \"u\"]\n",
    "    newstr = \"\"\n",
    "    \n",
    "    for i in range(len(string)):\n",
    "        if string[i].lower() not in vow:\n",
    "            newstr += string[i]\n",
    "    return newstr\n",
    "\n",
    "def delvow3(string):\n",
    "    vow = \"AaEeIiOoUu\"\n",
    "    newstr = \"\"\n",
    "    \n",
    "    for i in range(len(string)):\n",
    "        if string[i] not in vow:\n",
    "            newstr += string[i]\n",
    "    return newstr\n",
    "\n",
    "print(delvow1(\"mahib\"))\n",
    "print(delvow2(\"Mahibbbb\"))\n",
    "print(delvow3(\"hahah\"))"
   ]
  },
  {
   "cell_type": "markdown",
   "id": "d1a3b6ad-f2a8-458d-99ec-07ca9f501f60",
   "metadata": {},
   "source": [
    "### 20.find longest word in file"
   ]
  },
  {
   "cell_type": "code",
   "execution_count": 190,
   "id": "6aca8876-cf69-44e3-9e87-eff115fbca87",
   "metadata": {},
   "outputs": [
    {
     "name": "stdout",
     "output_type": "stream",
     "text": [
      "hooray!\n"
     ]
    }
   ],
   "source": [
    "with open(\"Sample.txt\", \"r\") as fobj:\n",
    "    content = fobj.read()\n",
    "    \n",
    "    wordlist = content.split()\n",
    "    \n",
    "    longest = \"\"\n",
    "    for word in range(1,len(wordlist)): \n",
    "        if len(wordlist[word]) > len(wordlist[word-1]):\n",
    "            longest = wordlist[word]\n",
    "print(longest)"
   ]
  },
  {
   "cell_type": "markdown",
   "id": "589358d0-8006-489f-9b48-dbd1727b00c0",
   "metadata": {},
   "source": [
    "### 21. file handling exceptions"
   ]
  },
  {
   "cell_type": "code",
   "execution_count": 198,
   "id": "f8e4ec1a-e248-41ff-9606-2c0fa6efba87",
   "metadata": {},
   "outputs": [
    {
     "data": {
      "text/plain": [
       "'File not found!'"
      ]
     },
     "execution_count": 198,
     "metadata": {},
     "output_type": "execute_result"
    }
   ],
   "source": [
    "def read(fname):\n",
    "    try:\n",
    "        with open(fname, \"r\") as fobj:\n",
    "            content = fobj.read()\n",
    "        return content\n",
    "    except FileNotFoundError:\n",
    "        return \"File not found!\"\n",
    "read(\"Sample\")"
   ]
  },
  {
   "cell_type": "code",
   "execution_count": 199,
   "id": "5a26ea95-afa4-48af-be2b-95edf592e651",
   "metadata": {},
   "outputs": [
    {
     "data": {
      "text/plain": [
       "'hi my name is mahib \\nI am very happy today\\nhooray!'"
      ]
     },
     "execution_count": 199,
     "metadata": {},
     "output_type": "execute_result"
    }
   ],
   "source": [
    "read(\"Sample.txt\")"
   ]
  },
  {
   "cell_type": "markdown",
   "id": "2862fc01-7520-477c-ae1a-0a450544c144",
   "metadata": {},
   "source": [
    "### 22. seek() and tell()"
   ]
  },
  {
   "cell_type": "code",
   "execution_count": 203,
   "id": "063623ec-c674-473d-868a-972ee3958648",
   "metadata": {},
   "outputs": [
    {
     "data": {
      "text/plain": [
       "5"
      ]
     },
     "execution_count": 203,
     "metadata": {},
     "output_type": "execute_result"
    }
   ],
   "source": [
    "def seek(fname, n , off):\n",
    "    with open(fname, \"r\") as fobj:\n",
    "        fobj.seek(n, off)\n",
    "        return fobj.tell()\n",
    "        \n",
    "\n",
    "seek(\"Sample.txt\" , 5, 0 )"
   ]
  },
  {
   "cell_type": "code",
   "execution_count": null,
   "id": "2d9e34ea-b379-417a-8342-206e2a2db0a3",
   "metadata": {},
   "outputs": [],
   "source": []
  }
 ],
 "metadata": {
  "kernelspec": {
   "display_name": "Python 3 (ipykernel)",
   "language": "python",
   "name": "python3"
  },
  "language_info": {
   "codemirror_mode": {
    "name": "ipython",
    "version": 3
   },
   "file_extension": ".py",
   "mimetype": "text/x-python",
   "name": "python",
   "nbconvert_exporter": "python",
   "pygments_lexer": "ipython3",
   "version": "3.11.4"
  }
 },
 "nbformat": 4,
 "nbformat_minor": 5
}
